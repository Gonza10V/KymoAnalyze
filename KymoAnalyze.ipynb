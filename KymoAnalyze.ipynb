{
 "cells": [
  {
   "cell_type": "code",
   "execution_count": 22,
   "metadata": {
    "collapsed": true
   },
   "outputs": [],
   "source": [
    "from PIL import Image\n",
    "import numpy as np\n",
    "import matplotlib\n",
    "import matplotlib.pyplot as plt"
   ]
  },
  {
   "cell_type": "code",
   "execution_count": 32,
   "metadata": {},
   "outputs": [
    {
     "data": {
      "image/png": "[encoded data removed]",
      "text/plain": [
       "<matplotlib.figure.Figure at 0x1563e274898>"
      ]
     },
     "metadata": {},
     "output_type": "display_data"
    },
    {
     "name": "stdout",
     "output_type": "stream",
     "text": [
      "mean velocity = 0.825 std 0.19843134833 mm/s\n"
     ]
    }
   ],
   "source": [
    "im = Image.open(\"KymographLine.png\")\n",
    "l,w=im.size\n",
    "pix_val = list(im.getdata())\n",
    "#pix_array is the image turned into an array of pixels\n",
    "pix_array = np.array(list(im.getdata())).reshape((w,l)) #np.reshape(pix_array) \n",
    "#threshold values to \n",
    "trh=150\n",
    "pix_array[pix_array<=150] = 1\n",
    "pix_array[pix_array>150] = 0\n",
    "#see the array that you want to work and configure it\n",
    "work_array=pix_array[:,1:-1]\n",
    "#count the 1s in the binary array in axis of choice\n",
    "ones=np.count_nonzero(work_array,1)\n",
    "#start the analysis\n",
    "py,px=work_array.shape\n",
    "size=10 #mm\n",
    "Dtime=10 #s\n",
    "pixels=px\n",
    "x=ones*(size/px)\n",
    "velocity=np.empty(py-1)\n",
    "for z in range(py-1):\n",
    "    velocity[z]=(ones[z+1]-ones[z])/Dtime\n",
    "mean_vel=np.mean(velocity)\n",
    "\n",
    "#Showing Data\n",
    "plt.imshow(work_array)\n",
    "plt.axes().set_aspect('auto')\n",
    "plt.xlabel('Pixel')\n",
    "plt.ylabel('Time')\n",
    "plt.suptitle('Show my working array')\n",
    "plt.show()\n",
    "print(\"mean velocity =\", mean_vel,\"std\",np.std(velocity) ,\"mm/s\")"
   ]
  },
  {
   "cell_type": "code",
   "execution_count": null,
   "metadata": {
    "collapsed": true
   },
   "outputs": [],
   "source": []
  }
 ],
 "metadata": {
  "kernelspec": {
   "display_name": "Python 3",
   "language": "python",
   "name": "python3"
  },
  "language_info": {
   "codemirror_mode": {
    "name": "ipython",
    "version": 3
   },
   "file_extension": ".py",
   "mimetype": "text/x-python",
   "name": "python",
   "nbconvert_exporter": "python",
   "pygments_lexer": "ipython3",
   "version": "3.6.1"
  }
 },
 "nbformat": 4,
 "nbformat_minor": 2
}
